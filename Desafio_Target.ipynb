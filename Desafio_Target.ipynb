{
  "nbformat": 4,
  "nbformat_minor": 0,
  "metadata": {
    "colab": {
      "provenance": [],
      "toc_visible": true
    },
    "kernelspec": {
      "name": "python3",
      "display_name": "Python 3"
    },
    "language_info": {
      "name": "python"
    }
  },
  "cells": [
    {
      "cell_type": "markdown",
      "source": [
        "# Calcular o valor da variável SOMA ao final do processamento."
      ],
      "metadata": {
        "id": "Y2iaOr59nZQ5"
      }
    },
    {
      "cell_type": "code",
      "execution_count": 3,
      "metadata": {
        "colab": {
          "base_uri": "https://localhost:8080/"
        },
        "id": "3PKqrGEtnTHO",
        "outputId": "8669a065-5bad-4976-9745-89e6b87dfd8c"
      },
      "outputs": [
        {
          "output_type": "stream",
          "name": "stdout",
          "text": [
            "91\n"
          ]
        }
      ],
      "source": [
        "# Variáveis iniciais\n",
        "INDICE = 13\n",
        "SOMA = 0\n",
        "K = 0\n",
        "\n",
        "# Estrutura de repetição\n",
        "while K < INDICE:\n",
        "    K += 1\n",
        "    SOMA += K\n",
        "\n",
        "print(SOMA)"
      ]
    },
    {
      "cell_type": "markdown",
      "source": [
        "# Sequência Fibonacci\n"
      ],
      "metadata": {
        "id": "mhNJcqpin4v0"
      }
    },
    {
      "cell_type": "code",
      "source": [
        "# Função para calcular a sequência de Fibonacci e verificar se o número pertence à sequência\n",
        "\n",
        "def pertence_fibonacci(num):\n",
        "\n",
        "    fib_1, fib_2 = 0, 1\n",
        "    # Caso o número seja 0 ou 1, ele já pertence à sequência\n",
        "    if num == fib_1 or num == fib_2:\n",
        "        return f\"O número {num} pertence à sequência de Fibonacci.\"\n",
        "    while fib_2 < num:\n",
        "        fib_1, fib_2 = fib_2, fib_1 + fib_2\n",
        "\n",
        "    # Verifica se o número é igual a algum número da sequência gerada\n",
        "    if fib_2 == num:\n",
        "        return f\"O número {num} pertence à sequência de Fibonacci.\"\n",
        "    else:\n",
        "        return f\"O número {num} não pertence à sequência de Fibonacci.\"\n",
        "\n",
        "# Número a ser verificado\n",
        "numero = 21\n",
        "\n",
        "pertence_fibonacci(numero)\n"
      ],
      "metadata": {
        "colab": {
          "base_uri": "https://localhost:8080/",
          "height": 36
        },
        "id": "oFRTFQE8oHr1",
        "outputId": "98c2076d-9b8c-435b-e55c-1a19357ca8cb"
      },
      "execution_count": 15,
      "outputs": [
        {
          "output_type": "execute_result",
          "data": {
            "text/plain": [
              "'O número 21 pertence à sequência de Fibonacci.'"
            ],
            "application/vnd.google.colaboratory.intrinsic+json": {
              "type": "string"
            }
          },
          "metadata": {},
          "execution_count": 15
        }
      ]
    },
    {
      "cell_type": "markdown",
      "source": [
        "# Json\n"
      ],
      "metadata": {
        "id": "rEPun_J1r_Ao"
      }
    },
    {
      "cell_type": "code",
      "source": [
        "import json\n",
        "\n",
        "# Dowload Json\n",
        "dados = '/content/dados.json'\n",
        "\n",
        "with open(dados, 'r') as f:\n",
        "    faturamento_data = json.load(f)\n",
        "\n",
        "faturamento_validos = [dia['valor'] for dia in faturamento_data if dia['valor'] > 0]\n",
        "\n",
        "# Calculando o menor, maior e a média\n",
        "menor_valor = min(faturamento_validos)\n",
        "maior_valor = max(faturamento_validos)\n",
        "media_mensal = sum(faturamento_validos) / len(faturamento_validos)\n",
        "dias_acima_da_media = len([dia for dia in faturamento_validos if dia > media_mensal])\n",
        "\n",
        "# Exibindo os resultados\n",
        "print(menor_valor, maior_valor, media_mensal, dias_acima_da_media)\n"
      ],
      "metadata": {
        "colab": {
          "base_uri": "https://localhost:8080/"
        },
        "id": "xRAFlaY9qF2S",
        "outputId": "0e3ba6a8-4805-4e08-b3b7-5851e9b2329c"
      },
      "execution_count": 24,
      "outputs": [
        {
          "output_type": "stream",
          "name": "stdout",
          "text": [
            "373.7838 48924.2448 20865.370166666664 10\n"
          ]
        }
      ]
    },
    {
      "cell_type": "markdown",
      "source": [
        "# Percentual de cada estado"
      ],
      "metadata": {
        "id": "mvB9I4MYqGmB"
      }
    },
    {
      "cell_type": "code",
      "source": [
        "# Valores de faturamento mensal por estado\n",
        "faturamento_estados = {\n",
        "    \"SP\": 67836.43,\n",
        "    \"RJ\": 36678.66,\n",
        "    \"MG\": 29229.88,\n",
        "    \"ES\": 27165.48,\n",
        "    \"Outros\": 19849.53\n",
        "}\n",
        "\n",
        "# Calculando o faturamento total\n",
        "faturamento_total = sum(faturamento_estados.values())\n",
        "\n",
        "# Calculando o percentual de representação de cada estado\n",
        "percentuais = {estado: (valor / faturamento_total) * 100 for estado, valor in faturamento_estados.items()}\n",
        "\n",
        "print(percentuais)\n",
        "\n",
        "# Exibindo os resultados\n",
        "for estado, percentual in percentuais.items():\n",
        "    print(f\"{estado}: {percentual:.2f}%\")"
      ],
      "metadata": {
        "colab": {
          "base_uri": "https://localhost:8080/"
        },
        "id": "VT-Vmhh-qMUq",
        "outputId": "196d0bf7-0f7c-47ca-dd46-d2f565af5f3e"
      },
      "execution_count": 19,
      "outputs": [
        {
          "output_type": "stream",
          "name": "stdout",
          "text": [
            "{'SP': 37.52845624346716, 'RJ': 20.291360952794975, 'MG': 16.170548370275323, 'ES': 15.028481414968068, 'Outros': 10.981153018494469}\n",
            "SP: 37.53%\n",
            "RJ: 20.29%\n",
            "MG: 16.17%\n",
            "ES: 15.03%\n",
            "Outros: 10.98%\n"
          ]
        }
      ]
    },
    {
      "cell_type": "markdown",
      "source": [
        "# Invertendo string sem funções"
      ],
      "metadata": {
        "id": "Em_qG9bVrHHm"
      }
    },
    {
      "cell_type": "code",
      "source": [
        "def inverter_string(s):\n",
        "    # Inicializando uma string vazia para armazenar o resultado invertido\n",
        "    string_invertida = \"\"\n",
        "\n",
        "    # Percorrendo a string original de trás para frente\n",
        "    for i in range(len(s) - 1, -1, -1):\n",
        "        string_invertida += s[i]\n",
        "\n",
        "    return string_invertida\n",
        "\n",
        "# String a ser invertida\n",
        "string_original = \"Exemplo de string\"\n",
        "\n",
        "# Invertendo a string\n",
        "inverter_string(string_original)\n"
      ],
      "metadata": {
        "colab": {
          "base_uri": "https://localhost:8080/",
          "height": 36
        },
        "id": "qUh_4w2oqxyJ",
        "outputId": "9c467187-68e9-4ec8-bc07-a64079831ad9"
      },
      "execution_count": 20,
      "outputs": [
        {
          "output_type": "execute_result",
          "data": {
            "text/plain": [
              "'gnirts ed olpmexE'"
            ],
            "application/vnd.google.colaboratory.intrinsic+json": {
              "type": "string"
            }
          },
          "metadata": {},
          "execution_count": 20
        }
      ]
    }
  ]
}